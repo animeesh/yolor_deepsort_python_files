{
  "nbformat": 4,
  "nbformat_minor": 0,
  "metadata": {
    "accelerator": "GPU",
    "colab": {
      "name": "YOLOR_DeepSORT Object Tracking.ipynb",
      "provenance": [],
      "collapsed_sections": []
    },
    "kernelspec": {
      "display_name": "Python 3",
      "name": "python3"
    },
    "language_info": {
      "name": "python"
    }
  },
  "cells": [
    {
      "cell_type": "markdown",
      "metadata": {
        "id": "fleSrK7UZsS2"
      },
      "source": [
        "# **Run YOLOR + DeepSORT Object Tracking on Google Colab**\n",
        "\n",
        "YoloR with Object Tracking is really impressive. We will execute superior multi-object tracking (MOT) using DeepSOR. The classes are dependent on those that are trained with YOLOR so you won't need to train DeepSORT, only YOLOR which we cover in the course.\n",
        "\n",
        "# **Tutorial**\n",
        "\n",
        "We will be implementing the following steps:\n",
        "\n",
        "1.   Setting up Dependencies\n",
        "2.   Download Sample Videos\n",
        "3.   Process Sample Video\n",
        "\n",
        "\n",
        "# **About Me**\n",
        "\n",
        "[Animeshkumar Nayak](https://www.linkedin.com/in/animeshnayak/) Computer vision Professional\n",
        "\n"
      ]
    },
    {
      "cell_type": "markdown",
      "metadata": {
        "id": "9snrC-prd7n4"
      },
      "source": [
        "# **1. Download Dependencies**"
      ]
    },
    {
      "cell_type": "code",
      "metadata": {
        "colab": {
          "base_uri": "https://localhost:8080/"
        },
        "id": "JuNuWYcYsUKx",
        "outputId": "8ed4123c-4f92-4f92-9796-6c94f402db2e"
      },
      "source": [
        "!pip install googledrivedownloader"
      ],
      "execution_count": 1,
      "outputs": [
        {
          "output_type": "stream",
          "name": "stdout",
          "text": [
            "Requirement already satisfied: googledrivedownloader in /usr/local/lib/python3.7/dist-packages (0.4)\n"
          ]
        }
      ]
    },
    {
      "cell_type": "code",
      "metadata": {
        "colab": {
          "base_uri": "https://localhost:8080/"
        },
        "id": "vwQihNNSuni9",
        "outputId": "d931542f-ca56-40b7-a97f-b24bd340b136"
      },
      "source": [
        "from google_drive_downloader import GoogleDriveDownloader as gdd\n",
        " \n",
        "#importing code files from google drive \n",
        "gdd.download_file_from_google_drive(file_id='1267Rjd0T0hJNy2LNDY0d2pLCh0A6gaXY',\n",
        "                                    dest_path='./yolor+deepsort.zip',\n",
        "                                    unzip=True)\n",
        " \n",
        " \n",
        "#downloading requirement file\n",
        "# https://drive.google.com/file/d/13f9UXyT_6xPUDye_D6ig8HjBa53UkILJ/view?usp=sharing\n",
        " \n",
        "gdd.download_file_from_google_drive(file_id='18qBklo5i6tCwzrVKCZd1gDUQyBaxvX8G',\n",
        "                                    dest_path='./reqs.txt')\n",
        " \n",
        "#downloading sample video\n",
        "gdd.download_file_from_google_drive(file_id='1Wey_K9-31W8Pu1OGPElY5CLr1BgfiLN2',\n",
        "                                    dest_path='./sample.mp4')"
      ],
      "execution_count": 2,
      "outputs": [
        {
          "output_type": "stream",
          "name": "stdout",
          "text": [
            "Downloading 1267Rjd0T0hJNy2LNDY0d2pLCh0A6gaXY into ./yolor+deepsort.zip... Done.\n",
            "Unzipping...Done.\n",
            "Downloading 18qBklo5i6tCwzrVKCZd1gDUQyBaxvX8G into ./reqs.txt... Done.\n",
            "Downloading 1Wey_K9-31W8Pu1OGPElY5CLr1BgfiLN2 into ./sample.mp4... Done.\n"
          ]
        }
      ]
    },
    {
      "cell_type": "markdown",
      "metadata": {
        "id": "6MF0PzfaEJUB"
      },
      "source": [
        "**Get the Latest Updated DeepSORT Tracking Script**"
      ]
    },
    {
      "cell_type": "code",
      "metadata": {
        "colab": {
          "base_uri": "https://localhost:8080/"
        },
        "id": "vdlaCnUcDzHK",
        "outputId": "792410b0-1675-44cf-cd29-aef7a02b74c0"
      },
      "source": [
        "!git clone https://github.com/animeesh/yolor_deepsort_python_files.git\n",
        "!mv /content/YOLOR-DEEPSORT-Object-Tracking/detect_track_trails.py /content/yolor"
      ],
      "execution_count": 4,
      "outputs": [
        {
          "output_type": "stream",
          "name": "stdout",
          "text": [
            "Cloning into 'yolor_deepsort_python_files'...\n",
            "remote: Enumerating objects: 12, done.\u001b[K\n",
            "remote: Counting objects: 100% (12/12), done.\u001b[K\n",
            "remote: Compressing objects: 100% (12/12), done.\u001b[K\n",
            "remote: Total 12 (delta 3), reused 0 (delta 0), pack-reused 0\u001b[K\n",
            "Unpacking objects: 100% (12/12), done.\n",
            "mv: cannot stat '/content/YOLOR-DEEPSORT-Object-Tracking/detect_track_trails.py': No such file or directory\n"
          ]
        }
      ]
    },
    {
      "cell_type": "markdown",
      "metadata": {
        "id": "JTmhwB0GeGyH"
      },
      "source": [
        "# **2. Install Requirements**"
      ]
    },
    {
      "cell_type": "code",
      "metadata": {
        "colab": {
          "base_uri": "https://localhost:8080/"
        },
        "id": "jJaEEycjvZzd",
        "outputId": "8fc03236-a74b-4285-db79-0d47c4e28806"
      },
      "source": [
        "#Installing requirement files to configure the environment - Note this will take about ~10 minutes to complete.\n",
        "#Ignore the errors\n",
        "!pip install -r /content/reqs.txt"
      ],
      "execution_count": 15,
      "outputs": [
        {
          "output_type": "stream",
          "name": "stdout",
          "text": [
            "Requirement already satisfied: absl-py==0.12.0 in /usr/local/lib/python3.7/dist-packages (from -r /content/reqs.txt (line 1)) (0.12.0)\n",
            "Requirement already satisfied: albumentations==0.5.2 in /usr/local/lib/python3.7/dist-packages (from -r /content/reqs.txt (line 2)) (0.5.2)\n",
            "Requirement already satisfied: altgraph==0.17 in /usr/local/lib/python3.7/dist-packages (from -r /content/reqs.txt (line 3)) (0.17)\n",
            "Requirement already satisfied: astunparse==1.6.3 in /usr/local/lib/python3.7/dist-packages (from -r /content/reqs.txt (line 4)) (1.6.3)\n",
            "Requirement already satisfied: attr==0.3.1 in /usr/local/lib/python3.7/dist-packages (from -r /content/reqs.txt (line 5)) (0.3.1)\n",
            "Requirement already satisfied: attrs==21.2.0 in /usr/local/lib/python3.7/dist-packages (from -r /content/reqs.txt (line 6)) (21.2.0)\n",
            "Requirement already satisfied: backcall==0.2.0 in /usr/local/lib/python3.7/dist-packages (from -r /content/reqs.txt (line 7)) (0.2.0)\n",
            "Requirement already satisfied: cachetools==4.2.1 in /usr/local/lib/python3.7/dist-packages (from -r /content/reqs.txt (line 8)) (4.2.1)\n",
            "Requirement already satisfied: certifi==2020.6.20 in /usr/local/lib/python3.7/dist-packages (from -r /content/reqs.txt (line 9)) (2020.6.20)\n",
            "Requirement already satisfied: chardet==3.0.4 in /usr/local/lib/python3.7/dist-packages (from -r /content/reqs.txt (line 10)) (3.0.4)\n",
            "Requirement already satisfied: click==8.0.1 in /usr/local/lib/python3.7/dist-packages (from -r /content/reqs.txt (line 11)) (8.0.1)\n",
            "Requirement already satisfied: coloredlogs==14.0 in /usr/local/lib/python3.7/dist-packages (from -r /content/reqs.txt (line 12)) (14.0)\n",
            "Requirement already satisfied: configparser==5.0.2 in /usr/local/lib/python3.7/dist-packages (from -r /content/reqs.txt (line 13)) (5.0.2)\n",
            "Requirement already satisfied: coremltools==4.1 in /usr/local/lib/python3.7/dist-packages (from -r /content/reqs.txt (line 14)) (4.1)\n",
            "Requirement already satisfied: cycler==0.10.0 in /usr/local/lib/python3.7/dist-packages (from -r /content/reqs.txt (line 15)) (0.10.0)\n",
            "Requirement already satisfied: Cython==0.29.22 in /usr/local/lib/python3.7/dist-packages (from -r /content/reqs.txt (line 16)) (0.29.22)\n",
            "Requirement already satisfied: dataclasses==0.6 in /usr/local/lib/python3.7/dist-packages (from -r /content/reqs.txt (line 17)) (0.6)\n",
            "Collecting DateTime==4.3\n",
            "  Downloading DateTime-4.3-py2.py3-none-any.whl (60 kB)\n",
            "\u001b[K     |████████████████████████████████| 60 kB 2.1 MB/s \n",
            "\u001b[?25hRequirement already satisfied: decorator==4.4.2 in /usr/local/lib/python3.7/dist-packages (from -r /content/reqs.txt (line 19)) (4.4.2)\n",
            "Requirement already satisfied: defusedxml==0.6.0 in /usr/local/lib/python3.7/dist-packages (from -r /content/reqs.txt (line 20)) (0.6.0)\n",
            "Requirement already satisfied: dlib==19.21.1 in /usr/local/lib/python3.7/dist-packages (from -r /content/reqs.txt (line 21)) (19.21.1)\n",
            "Requirement already satisfied: dm-tree==0.1.5 in /usr/local/lib/python3.7/dist-packages (from -r /content/reqs.txt (line 22)) (0.1.5)\n",
            "Requirement already satisfied: docker-pycreds==0.4.0 in /usr/local/lib/python3.7/dist-packages (from -r /content/reqs.txt (line 23)) (0.4.0)\n",
            "Requirement already satisfied: docopt==0.6.2 in /usr/local/lib/python3.7/dist-packages (from -r /content/reqs.txt (line 24)) (0.6.2)\n",
            "Requirement already satisfied: easydict==1.9 in /usr/local/lib/python3.7/dist-packages (from -r /content/reqs.txt (line 25)) (1.9)\n",
            "Requirement already satisfied: et-xmlfile==1.0.1 in /usr/local/lib/python3.7/dist-packages (from -r /content/reqs.txt (line 26)) (1.0.1)\n",
            "Requirement already satisfied: filelock==3.0.12 in /usr/local/lib/python3.7/dist-packages (from -r /content/reqs.txt (line 27)) (3.0.12)\n",
            "Requirement already satisfied: flake8==3.9.2 in /usr/local/lib/python3.7/dist-packages (from -r /content/reqs.txt (line 28)) (3.9.2)\n",
            "Requirement already satisfied: flake8-import-order==0.18.1 in /usr/local/lib/python3.7/dist-packages (from -r /content/reqs.txt (line 29)) (0.18.1)\n",
            "Requirement already satisfied: future==0.18.2 in /usr/local/lib/python3.7/dist-packages (from -r /content/reqs.txt (line 30)) (0.18.2)\n",
            "Requirement already satisfied: gdown==3.13.0 in /usr/local/lib/python3.7/dist-packages (from -r /content/reqs.txt (line 31)) (3.13.0)\n",
            "Requirement already satisfied: getmac==0.8.2 in /usr/local/lib/python3.7/dist-packages (from -r /content/reqs.txt (line 32)) (0.8.2)\n",
            "Requirement already satisfied: gitdb==4.0.7 in /usr/local/lib/python3.7/dist-packages (from -r /content/reqs.txt (line 33)) (4.0.7)\n",
            "Requirement already satisfied: GitPython==3.1.18 in /usr/local/lib/python3.7/dist-packages (from -r /content/reqs.txt (line 34)) (3.1.18)\n",
            "Requirement already satisfied: gobject==0.1.0 in /usr/local/lib/python3.7/dist-packages (from -r /content/reqs.txt (line 35)) (0.1.0)\n",
            "Requirement already satisfied: google-auth==1.28.0 in /usr/local/lib/python3.7/dist-packages (from -r /content/reqs.txt (line 36)) (1.28.0)\n",
            "Requirement already satisfied: google-auth-oauthlib==0.4.3 in /usr/local/lib/python3.7/dist-packages (from -r /content/reqs.txt (line 37)) (0.4.3)\n",
            "Requirement already satisfied: google-pasta==0.2.0 in /usr/local/lib/python3.7/dist-packages (from -r /content/reqs.txt (line 38)) (0.2.0)\n",
            "Requirement already satisfied: grpcio==1.32.0 in /usr/local/lib/python3.7/dist-packages (from -r /content/reqs.txt (line 39)) (1.32.0)\n",
            "Requirement already satisfied: gst==0.1.0 in /usr/local/lib/python3.7/dist-packages (from -r /content/reqs.txt (line 40)) (0.1.0)\n",
            "Requirement already satisfied: h5py==2.10.0 in /usr/local/lib/python3.7/dist-packages (from -r /content/reqs.txt (line 41)) (2.10.0)\n",
            "Requirement already satisfied: humanfriendly==8.2 in /usr/local/lib/python3.7/dist-packages (from -r /content/reqs.txt (line 42)) (8.2)\n",
            "Requirement already satisfied: idna==2.10 in /usr/local/lib/python3.7/dist-packages (from -r /content/reqs.txt (line 43)) (2.10)\n",
            "Requirement already satisfied: imageio==2.9.0 in /usr/local/lib/python3.7/dist-packages (from -r /content/reqs.txt (line 44)) (2.9.0)\n",
            "Requirement already satisfied: imgaug==0.4.0 in /usr/local/lib/python3.7/dist-packages (from -r /content/reqs.txt (line 45)) (0.4.0)\n",
            "Requirement already satisfied: importlib-metadata==2.0.0 in /usr/local/lib/python3.7/dist-packages (from -r /content/reqs.txt (line 46)) (2.0.0)\n",
            "Requirement already satisfied: imutils==0.5.3 in /usr/local/lib/python3.7/dist-packages (from -r /content/reqs.txt (line 47)) (0.5.3)\n",
            "Requirement already satisfied: iniconfig==1.1.1 in /usr/local/lib/python3.7/dist-packages (from -r /content/reqs.txt (line 48)) (1.1.1)\n",
            "Requirement already satisfied: ipdb==0.13.9 in /usr/local/lib/python3.7/dist-packages (from -r /content/reqs.txt (line 49)) (0.13.9)\n",
            "Requirement already satisfied: ipython==7.25.0 in /usr/local/lib/python3.7/dist-packages (from -r /content/reqs.txt (line 50)) (7.25.0)\n",
            "Requirement already satisfied: ipython-genutils==0.2.0 in /usr/local/lib/python3.7/dist-packages (from -r /content/reqs.txt (line 51)) (0.2.0)\n",
            "Requirement already satisfied: jdcal==1.4.1 in /usr/local/lib/python3.7/dist-packages (from -r /content/reqs.txt (line 52)) (1.4.1)\n",
            "Requirement already satisfied: jedi==0.18.0 in /usr/local/lib/python3.7/dist-packages (from -r /content/reqs.txt (line 53)) (0.18.0)\n",
            "Requirement already satisfied: jupyter-core==4.6.3 in /usr/local/lib/python3.7/dist-packages (from -r /content/reqs.txt (line 54)) (4.6.3)\n",
            "Requirement already satisfied: Keras-Preprocessing==1.1.2 in /usr/local/lib/python3.7/dist-packages (from -r /content/reqs.txt (line 55)) (1.1.2)\n",
            "Requirement already satisfied: keras-resnet==0.1.0 in /usr/local/lib/python3.7/dist-packages (from -r /content/reqs.txt (line 56)) (0.1.0)\n",
            "Requirement already satisfied: kiwisolver==1.2.0 in /usr/local/lib/python3.7/dist-packages (from -r /content/reqs.txt (line 57)) (1.2.0)\n",
            "Requirement already satisfied: Markdown==3.3.4 in /usr/local/lib/python3.7/dist-packages (from -r /content/reqs.txt (line 58)) (3.3.4)\n",
            "Requirement already satisfied: matplotlib==3.2.1 in /usr/local/lib/python3.7/dist-packages (from -r /content/reqs.txt (line 59)) (3.2.1)\n",
            "Requirement already satisfied: matplotlib-inline==0.1.2 in /usr/local/lib/python3.7/dist-packages (from -r /content/reqs.txt (line 60)) (0.1.2)\n",
            "Requirement already satisfied: mccabe==0.6.1 in /usr/local/lib/python3.7/dist-packages (from -r /content/reqs.txt (line 61)) (0.6.1)\n",
            "Requirement already satisfied: motmetrics==1.2.0 in /usr/local/lib/python3.7/dist-packages (from -r /content/reqs.txt (line 62)) (1.2.0)\n",
            "Requirement already satisfied: mpmath==1.2.1 in /usr/local/lib/python3.7/dist-packages (from -r /content/reqs.txt (line 63)) (1.2.1)\n",
            "Requirement already satisfied: nestargs==0.4.3 in /usr/local/lib/python3.7/dist-packages (from -r /content/reqs.txt (line 64)) (0.4.3)\n",
            "Requirement already satisfied: networkx==2.5 in /usr/local/lib/python3.7/dist-packages (from -r /content/reqs.txt (line 65)) (2.5)\n",
            "Requirement already satisfied: numpy==1.18.5 in /usr/local/lib/python3.7/dist-packages (from -r /content/reqs.txt (line 66)) (1.18.5)\n",
            "Requirement already satisfied: oauthlib==3.1.0 in /usr/local/lib/python3.7/dist-packages (from -r /content/reqs.txt (line 67)) (3.1.0)\n",
            "Requirement already satisfied: onnx==1.7.0 in /usr/local/lib/python3.7/dist-packages (from -r /content/reqs.txt (line 68)) (1.7.0)\n",
            "Requirement already satisfied: onnx-simplifier==0.2.16 in /usr/local/lib/python3.7/dist-packages (from -r /content/reqs.txt (line 69)) (0.2.16)\n",
            "Requirement already satisfied: onnxruntime==1.5.1 in /usr/local/lib/python3.7/dist-packages (from -r /content/reqs.txt (line 70)) (1.5.1)\n",
            "Requirement already satisfied: onnxruntime-tools==1.5.2 in /usr/local/lib/python3.7/dist-packages (from -r /content/reqs.txt (line 71)) (1.5.2)\n",
            "Requirement already satisfied: opencv-python==4.5.1.48 in /usr/local/lib/python3.7/dist-packages (from -r /content/reqs.txt (line 72)) (4.5.1.48)\n",
            "Requirement already satisfied: opencv-python-headless==4.5.1.48 in /usr/local/lib/python3.7/dist-packages (from -r /content/reqs.txt (line 73)) (4.5.1.48)\n",
            "Requirement already satisfied: openpyxl==3.0.5 in /usr/local/lib/python3.7/dist-packages (from -r /content/reqs.txt (line 74)) (3.0.5)\n",
            "Requirement already satisfied: opt-einsum==3.3.0 in /usr/local/lib/python3.7/dist-packages (from -r /content/reqs.txt (line 75)) (3.3.0)\n",
            "Requirement already satisfied: packaging==20.4 in /usr/local/lib/python3.7/dist-packages (from -r /content/reqs.txt (line 76)) (20.4)\n",
            "Requirement already satisfied: pandas==1.0.4 in /usr/local/lib/python3.7/dist-packages (from -r /content/reqs.txt (line 77)) (1.0.4)\n",
            "Requirement already satisfied: parso==0.8.2 in /usr/local/lib/python3.7/dist-packages (from -r /content/reqs.txt (line 78)) (0.8.2)\n",
            "Requirement already satisfied: passlib==1.7.4 in /usr/local/lib/python3.7/dist-packages (from -r /content/reqs.txt (line 79)) (1.7.4)\n",
            "Requirement already satisfied: pathtools==0.1.2 in /usr/local/lib/python3.7/dist-packages (from -r /content/reqs.txt (line 80)) (0.1.2)\n",
            "Requirement already satisfied: Pillow==8.3.1 in /usr/local/lib/python3.7/dist-packages (from -r /content/reqs.txt (line 81)) (8.3.1)\n",
            "Requirement already satisfied: pipreqs==0.4.10 in /usr/local/lib/python3.7/dist-packages (from -r /content/reqs.txt (line 82)) (0.4.10)\n",
            "Requirement already satisfied: pluggy==0.13.1 in /usr/local/lib/python3.7/dist-packages (from -r /content/reqs.txt (line 83)) (0.13.1)\n",
            "Requirement already satisfied: progressbar2==3.47.0 in /usr/local/lib/python3.7/dist-packages (from -r /content/reqs.txt (line 84)) (3.47.0)\n",
            "Requirement already satisfied: promise==2.3 in /usr/local/lib/python3.7/dist-packages (from -r /content/reqs.txt (line 85)) (2.3)\n",
            "Requirement already satisfied: prompt-toolkit==3.0.19 in /usr/local/lib/python3.7/dist-packages (from -r /content/reqs.txt (line 86)) (3.0.19)\n",
            "Requirement already satisfied: protobuf==3.13.0 in /usr/local/lib/python3.7/dist-packages (from -r /content/reqs.txt (line 87)) (3.13.0)\n",
            "Requirement already satisfied: psutil==5.7.2 in /usr/local/lib/python3.7/dist-packages (from -r /content/reqs.txt (line 88)) (5.7.2)\n",
            "Requirement already satisfied: ptyprocess==0.6.0 in /usr/local/lib/python3.7/dist-packages (from -r /content/reqs.txt (line 89)) (0.6.0)\n",
            "Requirement already satisfied: py==1.10.0 in /usr/local/lib/python3.7/dist-packages (from -r /content/reqs.txt (line 90)) (1.10.0)\n",
            "Requirement already satisfied: py-cpuinfo==7.0.0 in /usr/local/lib/python3.7/dist-packages (from -r /content/reqs.txt (line 91)) (7.0.0)\n",
            "Requirement already satisfied: py3nvml==0.2.6 in /usr/local/lib/python3.7/dist-packages (from -r /content/reqs.txt (line 92)) (0.2.6)\n",
            "Requirement already satisfied: pyarmor==6.5.4 in /usr/local/lib/python3.7/dist-packages (from -r /content/reqs.txt (line 93)) (6.5.4)\n",
            "Requirement already satisfied: pyasn1==0.4.8 in /usr/local/lib/python3.7/dist-packages (from -r /content/reqs.txt (line 94)) (0.4.8)\n",
            "Requirement already satisfied: pyasn1-modules==0.2.8 in /usr/local/lib/python3.7/dist-packages (from -r /content/reqs.txt (line 95)) (0.2.8)\n",
            "Requirement already satisfied: pycocotools==2.0.2 in /usr/local/lib/python3.7/dist-packages (from -r /content/reqs.txt (line 96)) (2.0.2)\n",
            "Requirement already satisfied: pycodestyle==2.7.0 in /usr/local/lib/python3.7/dist-packages (from -r /content/reqs.txt (line 97)) (2.7.0)\n",
            "Requirement already satisfied: pyflakes==2.3.1 in /usr/local/lib/python3.7/dist-packages (from -r /content/reqs.txt (line 98)) (2.3.1)\n",
            "Requirement already satisfied: pyinstaller==4.3 in /usr/local/lib/python3.7/dist-packages (from -r /content/reqs.txt (line 99)) (4.3)\n",
            "Requirement already satisfied: pyinstaller-hooks-contrib==2021.1 in /usr/local/lib/python3.7/dist-packages (from -r /content/reqs.txt (line 100)) (2021.1)\n",
            "Requirement already satisfied: pyparsing==2.4.7 in /usr/local/lib/python3.7/dist-packages (from -r /content/reqs.txt (line 101)) (2.4.7)\n",
            "Requirement already satisfied: PySocks==1.7.1 in /usr/local/lib/python3.7/dist-packages (from -r /content/reqs.txt (line 102)) (1.7.1)\n",
            "Requirement already satisfied: pytest==6.2.4 in /usr/local/lib/python3.7/dist-packages (from -r /content/reqs.txt (line 103)) (6.2.4)\n",
            "Requirement already satisfied: pytest-benchmark==3.4.1 in /usr/local/lib/python3.7/dist-packages (from -r /content/reqs.txt (line 104)) (3.4.1)\n",
            "Requirement already satisfied: python-dateutil==2.8.1 in /usr/local/lib/python3.7/dist-packages (from -r /content/reqs.txt (line 105)) (2.8.1)\n",
            "Requirement already satisfied: python-utils==2.3.0 in /usr/local/lib/python3.7/dist-packages (from -r /content/reqs.txt (line 106)) (2.3.0)\n",
            "Requirement already satisfied: pytz==2020.1 in /usr/local/lib/python3.7/dist-packages (from -r /content/reqs.txt (line 107)) (2020.1)\n",
            "Requirement already satisfied: PyWavelets==1.1.1 in /usr/local/lib/python3.7/dist-packages (from -r /content/reqs.txt (line 108)) (1.1.1)\n",
            "Requirement already satisfied: PyYAML==5.4.1 in /usr/local/lib/python3.7/dist-packages (from -r /content/reqs.txt (line 109)) (5.4.1)\n",
            "Requirement already satisfied: pyzmq==19.0.2 in /usr/local/lib/python3.7/dist-packages (from -r /content/reqs.txt (line 110)) (19.0.2)\n",
            "Requirement already satisfied: requests==2.24.0 in /usr/local/lib/python3.7/dist-packages (from -r /content/reqs.txt (line 111)) (2.24.0)\n",
            "Requirement already satisfied: requests-oauthlib==1.3.0 in /usr/local/lib/python3.7/dist-packages (from -r /content/reqs.txt (line 112)) (1.3.0)\n",
            "Requirement already satisfied: rsa==4.7.2 in /usr/local/lib/python3.7/dist-packages (from -r /content/reqs.txt (line 113)) (4.7.2)\n",
            "Requirement already satisfied: scikit-image==0.18.1 in /usr/local/lib/python3.7/dist-packages (from -r /content/reqs.txt (line 114)) (0.18.1)\n",
            "Requirement already satisfied: scipy==1.4.1 in /usr/local/lib/python3.7/dist-packages (from -r /content/reqs.txt (line 115)) (1.4.1)\n",
            "Requirement already satisfied: seaborn==0.11.1 in /usr/local/lib/python3.7/dist-packages (from -r /content/reqs.txt (line 116)) (0.11.1)\n",
            "Requirement already satisfied: sentry-sdk==1.3.0 in /usr/local/lib/python3.7/dist-packages (from -r /content/reqs.txt (line 117)) (1.3.0)\n",
            "Requirement already satisfied: Shapely==1.7.1 in /usr/local/lib/python3.7/dist-packages (from -r /content/reqs.txt (line 118)) (1.7.1)\n",
            "Requirement already satisfied: shortuuid==1.0.1 in /usr/local/lib/python3.7/dist-packages (from -r /content/reqs.txt (line 119)) (1.0.1)\n",
            "Requirement already satisfied: simplegeneric==0.8.1 in /usr/local/lib/python3.7/dist-packages (from -r /content/reqs.txt (line 120)) (0.8.1)\n",
            "Requirement already satisfied: six==1.15.0 in /usr/local/lib/python3.7/dist-packages (from -r /content/reqs.txt (line 121)) (1.15.0)\n",
            "Requirement already satisfied: smmap==4.0.0 in /usr/local/lib/python3.7/dist-packages (from -r /content/reqs.txt (line 122)) (4.0.0)\n",
            "Requirement already satisfied: subprocess32==3.5.4 in /usr/local/lib/python3.7/dist-packages (from -r /content/reqs.txt (line 123)) (3.5.4)\n",
            "Requirement already satisfied: sympy==1.8 in /usr/local/lib/python3.7/dist-packages (from -r /content/reqs.txt (line 124)) (1.8)\n",
            "Requirement already satisfied: tensorboard==2.3.0 in /usr/local/lib/python3.7/dist-packages (from -r /content/reqs.txt (line 125)) (2.3.0)\n",
            "Requirement already satisfied: tensorboard-plugin-wit==1.8.0 in /usr/local/lib/python3.7/dist-packages (from -r /content/reqs.txt (line 126)) (1.8.0)\n",
            "Requirement already satisfied: termcolor==1.1.0 in /usr/local/lib/python3.7/dist-packages (from -r /content/reqs.txt (line 127)) (1.1.0)\n",
            "Requirement already satisfied: test-generator==0.1.1 in /usr/local/lib/python3.7/dist-packages (from -r /content/reqs.txt (line 128)) (0.1.1)\n",
            "Requirement already satisfied: thop==0.0.31.post2005241907 in /usr/local/lib/python3.7/dist-packages (from -r /content/reqs.txt (line 129)) (0.0.31.post2005241907)\n",
            "Requirement already satisfied: tifffile==2021.3.5 in /usr/local/lib/python3.7/dist-packages (from -r /content/reqs.txt (line 130)) (2021.3.5)\n",
            "Requirement already satisfied: toml==0.10.2 in /usr/local/lib/python3.7/dist-packages (from -r /content/reqs.txt (line 131)) (0.10.2)\n",
            "Requirement already satisfied: torch==1.7.0 in /usr/local/lib/python3.7/dist-packages (from -r /content/reqs.txt (line 132)) (1.7.0)\n",
            "Requirement already satisfied: torchvision==0.8.1 in /usr/local/lib/python3.7/dist-packages (from -r /content/reqs.txt (line 133)) (0.8.1)\n",
            "Requirement already satisfied: tornado==6.0.4 in /usr/local/lib/python3.7/dist-packages (from -r /content/reqs.txt (line 134)) (6.0.4)\n",
            "Requirement already satisfied: tqdm==4.46.1 in /usr/local/lib/python3.7/dist-packages (from -r /content/reqs.txt (line 135)) (4.46.1)\n",
            "Requirement already satisfied: typing-extensions==3.7.4.3 in /usr/local/lib/python3.7/dist-packages (from -r /content/reqs.txt (line 136)) (3.7.4.3)\n",
            "Requirement already satisfied: urllib3==1.25.10 in /usr/local/lib/python3.7/dist-packages (from -r /content/reqs.txt (line 137)) (1.25.10)\n",
            "Requirement already satisfied: wandb==0.10.33 in /usr/local/lib/python3.7/dist-packages (from -r /content/reqs.txt (line 138)) (0.10.33)\n",
            "Requirement already satisfied: Werkzeug==1.0.1 in /usr/local/lib/python3.7/dist-packages (from -r /content/reqs.txt (line 139)) (1.0.1)\n",
            "Requirement already satisfied: wrapt==1.12.1 in /usr/local/lib/python3.7/dist-packages (from -r /content/reqs.txt (line 140)) (1.12.1)\n",
            "Requirement already satisfied: xlrd==1.2.0 in /usr/local/lib/python3.7/dist-packages (from -r /content/reqs.txt (line 141)) (1.2.0)\n",
            "Requirement already satisfied: xlwt==1.3.0 in /usr/local/lib/python3.7/dist-packages (from -r /content/reqs.txt (line 142)) (1.3.0)\n",
            "Requirement already satisfied: xmltodict==0.12.0 in /usr/local/lib/python3.7/dist-packages (from -r /content/reqs.txt (line 143)) (0.12.0)\n",
            "Requirement already satisfied: yarg==0.1.9 in /usr/local/lib/python3.7/dist-packages (from -r /content/reqs.txt (line 144)) (0.1.9)\n",
            "Requirement already satisfied: zipp==3.2.0 in /usr/local/lib/python3.7/dist-packages (from -r /content/reqs.txt (line 145)) (3.2.0)\n",
            "Requirement already satisfied: wheel<1.0,>=0.23.0 in /usr/local/lib/python3.7/dist-packages (from astunparse==1.6.3->-r /content/reqs.txt (line 4)) (0.37.0)\n",
            "Collecting zope.interface\n",
            "  Downloading zope.interface-5.4.0-cp37-cp37m-manylinux2010_x86_64.whl (251 kB)\n",
            "\u001b[K     |████████████████████████████████| 251 kB 5.1 MB/s \n",
            "\u001b[?25hRequirement already satisfied: setuptools in /usr/local/lib/python3.7/dist-packages (from flake8-import-order==0.18.1->-r /content/reqs.txt (line 29)) (57.4.0)\n",
            "Requirement already satisfied: pygments in /usr/local/lib/python3.7/dist-packages (from ipython==7.25.0->-r /content/reqs.txt (line 50)) (2.6.1)\n",
            "Requirement already satisfied: pexpect>4.3 in /usr/local/lib/python3.7/dist-packages (from ipython==7.25.0->-r /content/reqs.txt (line 50)) (4.8.0)\n",
            "Requirement already satisfied: traitlets>=4.2 in /usr/local/lib/python3.7/dist-packages (from ipython==7.25.0->-r /content/reqs.txt (line 50)) (5.1.0)\n",
            "Requirement already satisfied: pickleshare in /usr/local/lib/python3.7/dist-packages (from ipython==7.25.0->-r /content/reqs.txt (line 50)) (0.7.5)\n",
            "Requirement already satisfied: keras in /usr/local/lib/python3.7/dist-packages (from keras-resnet==0.1.0->-r /content/reqs.txt (line 56)) (2.6.0)\n",
            "Requirement already satisfied: wcwidth in /usr/local/lib/python3.7/dist-packages (from prompt-toolkit==3.0.19->-r /content/reqs.txt (line 86)) (0.2.5)\n",
            "Installing collected packages: zope.interface, DateTime\n",
            "Successfully installed DateTime-4.3 zope.interface-5.4.0\n"
          ]
        }
      ]
    },
    {
      "cell_type": "markdown",
      "metadata": {
        "id": "zRuvILnQeNfT"
      },
      "source": [
        "# **3. Run YOLOR + DeepSORT Object Tracking**"
      ]
    },
    {
      "cell_type": "code",
      "metadata": {
        "id": "1qnIGIIX178Y",
        "outputId": "dcdb1f24-9f6e-4738-e756-b601ec76dbfb",
        "colab": {
          "base_uri": "https://localhost:8080/"
        }
      },
      "source": [
        "from google.colab import drive\n",
        "drive.mount('/content/gdrive')"
      ],
      "execution_count": 17,
      "outputs": [
        {
          "output_type": "stream",
          "name": "stdout",
          "text": [
            "Drive already mounted at /content/gdrive; to attempt to forcibly remount, call drive.mount(\"/content/gdrive\", force_remount=True).\n"
          ]
        }
      ]
    },
    {
      "cell_type": "code",
      "metadata": {
        "id": "Fcvik_eUyNT8",
        "outputId": "6602bfae-05ee-4eec-fe5f-a6584f9f3e2e",
        "colab": {
          "base_uri": "https://localhost:8080/"
        }
      },
      "source": [
        "%cd yolor"
      ],
      "execution_count": 18,
      "outputs": [
        {
          "output_type": "stream",
          "name": "stdout",
          "text": [
            "[Errno 2] No such file or directory: 'yolor'\n",
            "/content/yolor\n"
          ]
        }
      ]
    },
    {
      "cell_type": "markdown",
      "metadata": {
        "id": "Q5ogUB0UIRwz"
      },
      "source": [
        "python detect_track_trial.py (detect track and its direction)or detect_track.py (detect and track) or detect_track.py(only detect onject)\n",
        "\n",
        "source - the input video location\n",
        "\n",
        "classes - classes we want from the data.coco file (change the object name in data.coco if needed)\n",
        "\n",
        "conf- confidence percentage\n",
        "\n",
        "image size -  no need to change by now\n",
        "\n",
        "device - 0 for gpu or else type cpu\n",
        "\n",
        "\n"
      ]
    },
    {
      "cell_type": "code",
      "metadata": {
        "id": "GZTVHusx3caJ",
        "outputId": "343998bd-bafa-4ebd-dbdd-ada187ae851e",
        "colab": {
          "base_uri": "https://localhost:8080/"
        }
      },
      "source": [
        "!python detect_track_trails.py --source /content/sample.mp4 --cfg cfg/yolor_p6.cfg --classes 0 --weights yolor_p6.pt --conf 0.25 --img-size 1280 --device 0 #--view-img"
      ],
      "execution_count": 22,
      "outputs": [
        {
          "output_type": "stream",
          "name": "stdout",
          "text": [
            "Namespace(agnostic_nms=False, augment=False, cfg='cfg/yolor_p6.cfg', classes=[0], conf_thres=0.25, device='0', img_size=1280, iou_thres=0.5, names='data/coco.names', output='inference/output', save_txt=False, source='/content/sample.mp4', trailslen=64, update=False, view_img=False, weights=['yolor_p6.pt'])\n",
            "video 1/1 (1/341) /content/sample.mp4: 768x1280 36 persons, Done. (0.208s)\n",
            "video 1/1 (2/341) /content/sample.mp4: 768x1280 34 persons, Done. (0.184s)\n",
            "video 1/1 (3/341) /content/sample.mp4: 768x1280 35 persons, Done. (0.180s)\n",
            "video 1/1 (4/341) /content/sample.mp4: 768x1280 38 persons, Done. (0.179s)\n",
            "video 1/1 (5/341) /content/sample.mp4: 768x1280 38 persons, Done. (0.179s)\n",
            "video 1/1 (6/341) /content/sample.mp4: 768x1280 38 persons, Done. (0.179s)\n",
            "video 1/1 (7/341) /content/sample.mp4: 768x1280 38 persons, Done. (0.178s)\n",
            "video 1/1 (8/341) /content/sample.mp4: 768x1280 36 persons, Done. (0.179s)\n",
            "video 1/1 (9/341) /content/sample.mp4: 768x1280 34 persons, Done. (0.177s)\n",
            "video 1/1 (10/341) /content/sample.mp4: 768x1280 35 persons, Done. (0.177s)\n",
            "video 1/1 (11/341) /content/sample.mp4: 768x1280 35 persons, Done. (0.177s)\n",
            "video 1/1 (12/341) /content/sample.mp4: 768x1280 35 persons, Done. (0.179s)\n",
            "video 1/1 (13/341) /content/sample.mp4: 768x1280 37 persons, Done. (0.177s)\n",
            "video 1/1 (14/341) /content/sample.mp4: 768x1280 35 persons, Done. (0.180s)\n",
            "video 1/1 (15/341) /content/sample.mp4: 768x1280 35 persons, Done. (0.178s)\n",
            "video 1/1 (16/341) /content/sample.mp4: 768x1280 35 persons, Done. (0.178s)\n",
            "video 1/1 (17/341) /content/sample.mp4: 768x1280 36 persons, Done. (0.178s)\n",
            "video 1/1 (18/341) /content/sample.mp4: 768x1280 35 persons, Done. (0.177s)\n",
            "video 1/1 (19/341) /content/sample.mp4: 768x1280 37 persons, Done. (0.178s)\n",
            "video 1/1 (20/341) /content/sample.mp4: 768x1280 35 persons, Done. (0.178s)\n",
            "video 1/1 (21/341) /content/sample.mp4: 768x1280 34 persons, Done. (0.178s)\n",
            "video 1/1 (22/341) /content/sample.mp4: 768x1280 35 persons, Done. (0.178s)\n",
            "video 1/1 (23/341) /content/sample.mp4: Traceback (most recent call last):\n",
            "  File \"detect_track_trails.py\", line 319, in <module>\n",
            "    detect()\n",
            "  File \"detect_track_trails.py\", line 197, in detect\n",
            "    pred = model(img, augment=opt.augment)[0]\n",
            "  File \"/usr/local/lib/python3.7/dist-packages/torch/nn/modules/module.py\", line 727, in _call_impl\n",
            "    result = self.forward(*input, **kwargs)\n",
            "  File \"/content/yolor/models/models.py\", line 543, in forward\n",
            "    return self.forward_once(x)\n",
            "  File \"/content/yolor/models/models.py\", line 604, in forward_once\n",
            "    x = module(x)\n",
            "  File \"/usr/local/lib/python3.7/dist-packages/torch/nn/modules/module.py\", line 727, in _call_impl\n",
            "    result = self.forward(*input, **kwargs)\n",
            "  File \"/usr/local/lib/python3.7/dist-packages/torch/nn/modules/container.py\", line 117, in forward\n",
            "    input = module(input)\n",
            "  File \"/usr/local/lib/python3.7/dist-packages/torch/nn/modules/module.py\", line 727, in _call_impl\n",
            "    result = self.forward(*input, **kwargs)\n",
            "  File \"/usr/local/lib/python3.7/dist-packages/torch/nn/modules/conv.py\", line 423, in forward\n",
            "    return self._conv_forward(input, self.weight)\n",
            "  File \"/usr/local/lib/python3.7/dist-packages/torch/nn/modules/conv.py\", line 420, in _conv_forward\n",
            "    self.padding, self.dilation, self.groups)\n",
            "KeyboardInterrupt\n"
          ]
        }
      ]
    },
    {
      "cell_type": "code",
      "metadata": {
        "id": "vwWKk-8u5tV7",
        "outputId": "703248c8-1e1c-47d9-89da-15373e20c8b0",
        "colab": {
          "base_uri": "https://localhost:8080/"
        }
      },
      "source": [
        "!mv \"/content/yolor/inference/output/test_video.mp4\" \"/content/gdrive/MyDrive/Dev/Soccer/Output\""
      ],
      "execution_count": 18,
      "outputs": [
        {
          "output_type": "stream",
          "name": "stdout",
          "text": [
            "mv: cannot stat '/content/yolor/inference/output/test_video.mp4': No such file or directory\n"
          ]
        }
      ]
    },
    {
      "cell_type": "markdown",
      "metadata": {
        "id": "eR9N5p8i7sFu"
      },
      "source": [
        "Your processed files should be in **yolor/inference/output**"
      ]
    },
    {
      "cell_type": "markdown",
      "metadata": {
        "id": "bPwW7wYLeVpP"
      },
      "source": [
        "# **4. Future Work**\n",
        "\n",
        "*   Convert and Display output Video in Colab\n",
        "*   Save to GDrive\n",
        "\n"
      ]
    }
  ]
}